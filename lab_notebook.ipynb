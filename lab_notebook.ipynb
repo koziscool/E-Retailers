{
 "cells": [
  {
   "cell_type": "code",
   "execution_count": 84,
   "id": "50598aa7",
   "metadata": {},
   "outputs": [
    {
     "name": "stdout",
     "output_type": "stream",
     "text": [
      "Current working directory: /home/koz/koz/NYCDSA/bootcamp-resources/ML/Lab/E-Retailers\n"
     ]
    }
   ],
   "source": [
    "import os\n",
    "import pandas as pd\n",
    "import numpy as np\n",
    "from scipy import stats\n",
    "import matplotlib\n",
    "import matplotlib.pyplot as plt\n",
    "import plotly.express as px\n",
    "import seaborn as sns\n",
    "import datetime\n",
    "\n",
    "%matplotlib inline\n",
    "cwd = os.getcwd()\n",
    "print(\"Current working directory: {0}\".format(cwd))"
   ]
  },
  {
   "cell_type": "code",
   "execution_count": 109,
   "id": "36e4510e",
   "metadata": {},
   "outputs": [],
   "source": [
    "orders_file = pd.read_csv(\"./data/Orders.csv\")\n",
    "returns_file = pd.read_csv(\"./data/Returns.csv\")\n",
    "orders = pd.DataFrame(orders_file)\n",
    "returns = pd.DataFrame(returns_file)\n",
    "\n"
   ]
  },
  {
   "cell_type": "code",
   "execution_count": 55,
   "id": "fd47639a",
   "metadata": {},
   "outputs": [
    {
     "data": {
      "text/plain": [
       "Index(['Row.ID', 'Order.ID', 'Order.Date', 'Ship.Date', 'Ship.Mode',\n",
       "       'Customer.ID', 'Customer.Name', 'Segment', 'Postal.Code', 'City',\n",
       "       'State', 'Country', 'Region', 'Market', 'Product.ID', 'Category',\n",
       "       'Sub.Category', 'Product.Name', 'Sales', 'Quantity', 'Discount',\n",
       "       'Profit', 'Shipping.Cost', 'Order.Priority'],\n",
       "      dtype='object')"
      ]
     },
     "execution_count": 55,
     "metadata": {},
     "output_type": "execute_result"
    }
   ],
   "source": [
    "orders.describe()\n",
    "orders.columns"
   ]
  },
  {
   "cell_type": "code",
   "execution_count": 110,
   "id": "033ddc28",
   "metadata": {},
   "outputs": [],
   "source": [
    "convert_to_numeric_dollars = lambda s: int(s.replace(\"$\",\"\").replace(\".\",\"\").replace(\",\",\"\"))/100\n",
    "\n",
    "orders.Profit = orders.Profit.map(convert_to_numeric_dollars)\n",
    "orders.Sales = orders.Sales.map(convert_to_numeric_dollars)\n"
   ]
  },
  {
   "cell_type": "code",
   "execution_count": 57,
   "id": "a79a3a1e",
   "metadata": {},
   "outputs": [
    {
     "data": {
      "text/plain": [
       "Index(['Returned', 'Order ID', 'Region'], dtype='object')"
      ]
     },
     "execution_count": 57,
     "metadata": {},
     "output_type": "execute_result"
    }
   ],
   "source": [
    "returns.describe()\n",
    "returns.columns"
   ]
  },
  {
   "cell_type": "code",
   "execution_count": 115,
   "id": "2cc7587e",
   "metadata": {},
   "outputs": [],
   "source": [
    "\n",
    "orders['Order.Date'] = pd.to_datetime(orders['Order.Date'])\n",
    "orders['Ship.Date'] = pd.to_datetime(orders['Ship.Date'])\n",
    "orders['Order.Month'] = orders['Order.Date'].apply(lambda x: x.month_name())\n",
    "orders['Order.Month.Num'] = orders['Order.Date'].apply(lambda x: x.month)\n",
    "orders['Order.Year'] = orders['Order.Date'].apply(lambda x: x.year)\n",
    "orders['Order.Date_year_month'] = orders['Order.Date'].dt.date.apply(lambda x: x.strftime('%Y-%m'))\n",
    "orders['Order.Date_year_month'] = pd.to_datetime(orders['Order.Date_year_month'], infer_datetime_format=True)"
   ]
  },
  {
   "cell_type": "code",
   "execution_count": 117,
   "id": "03134a0b",
   "metadata": {
    "scrolled": true
   },
   "outputs": [
    {
     "data": {
      "text/html": [
       "<iframe\n",
       "    scrolling=\"no\"\n",
       "    width=\"100%\"\n",
       "    height=\"545px\"\n",
       "    src=\"iframe_figures/figure_7.html\"\n",
       "    frameborder=\"0\"\n",
       "    allowfullscreen\n",
       "></iframe>\n"
      ]
     },
     "metadata": {},
     "output_type": "display_data"
    }
   ],
   "source": [
    "import plotly.io as pio\n",
    "pio.renderers.default = 'iframe'\n",
    "QuantityByMonth = orders.groupby(['Order.Date_year_month']).agg(Monthly_Quantity=('Quantity', 'sum')).reset_index()\n",
    "fig = px.line(QuantityByMonth.sort_values(by=['Order.Date_year_month'], ascending=[True]), x='Order.Date_year_month', y='Monthly_Quantity')\n",
    "fig"
   ]
  },
  {
   "cell_type": "code",
   "execution_count": 118,
   "id": "539a9b1b",
   "metadata": {},
   "outputs": [
    {
     "data": {
      "text/plain": [
       "<AxesSubplot:xlabel='Order.Month.Num'>"
      ]
     },
     "execution_count": 118,
     "metadata": {},
     "output_type": "execute_result"
    },
    {
     "data": {
      "image/png": "[encoded data removed]",
      "text/plain": [
       "<Figure size 432x288 with 1 Axes>"
      ]
     },
     "metadata": {
      "needs_background": "light"
     },
     "output_type": "display_data"
    }
   ],
   "source": [
    "orders_by_month = orders.groupby('Order.Month.Num')\n",
    "_ = orders_by_month['Quantity'].agg(sum)\n",
    "_.plot.bar()"
   ]
  },
  {
   "cell_type": "code",
   "execution_count": 119,
   "id": "aedb888c",
   "metadata": {
    "scrolled": true
   },
   "outputs": [
    {
     "data": {
      "text/plain": [
       "<AxesSubplot:xlabel='Order.Month.Num'>"
      ]
     },
     "execution_count": 119,
     "metadata": {},
     "output_type": "execute_result"
    },
    {
     "data": {
      "image/png": "[encoded data removed]",
      "text/plain": [
       "<Figure size 432x288 with 1 Axes>"
      ]
     },
     "metadata": {
      "needs_background": "light"
     },
     "output_type": "display_data"
    }
   ],
   "source": [
    "consumer_orders = orders[orders.Segment == \"Consumer\"]\n",
    "consumer_orders_by_month = consumer_orders.groupby('Order.Month.Num')\n",
    "_ = consumer_orders_by_month['Quantity'].agg(sum)\n",
    "_.plot.bar()"
   ]
  },
  {
   "cell_type": "code",
   "execution_count": 120,
   "id": "eb35292e",
   "metadata": {},
   "outputs": [
    {
     "data": {
      "text/plain": [
       "<AxesSubplot:xlabel='Order.Month.Num'>"
      ]
     },
     "execution_count": 120,
     "metadata": {},
     "output_type": "execute_result"
    },
    {
     "data": {
      "image/png": "[encoded data removed]",
      "text/plain": [
       "<Figure size 432x288 with 1 Axes>"
      ]
     },
     "metadata": {
      "needs_background": "light"
     },
     "output_type": "display_data"
    }
   ],
   "source": [
    "corporate_orders = orders[orders.Segment == \"Corporate\"]\n",
    "corporate_orders_by_month = corporate_orders.groupby('Order.Month.Num')\n",
    "_ = corporate_orders_by_month['Quantity'].agg(sum)\n",
    "_.plot.bar()"
   ]
  },
  {
   "cell_type": "code",
   "execution_count": 45,
   "id": "d7788a18",
   "metadata": {},
   "outputs": [],
   "source": [
    "#From here it seems pretty clear that this dataset has seasonality.\n",
    "\n",
    "#In particular, the first 5 months of the year are significantly slower than the rest,\n",
    "#and this holds for corporate and consumer orders both"
   ]
  },
  {
   "cell_type": "code",
   "execution_count": 46,
   "id": "2a4fe010",
   "metadata": {},
   "outputs": [
    {
     "data": {
      "text/html": [
       "<div>\n",
       "<style scoped>\n",
       "    .dataframe tbody tr th:only-of-type {\n",
       "        vertical-align: middle;\n",
       "    }\n",
       "\n",
       "    .dataframe tbody tr th {\n",
       "        vertical-align: top;\n",
       "    }\n",
       "\n",
       "    .dataframe thead th {\n",
       "        text-align: right;\n",
       "    }\n",
       "</style>\n",
       "<table border=\"1\" class=\"dataframe\">\n",
       "  <thead>\n",
       "    <tr style=\"text-align: right;\">\n",
       "      <th></th>\n",
       "      <th>Returned</th>\n",
       "      <th>Order ID</th>\n",
       "      <th>Region</th>\n",
       "    </tr>\n",
       "  </thead>\n",
       "  <tbody>\n",
       "    <tr>\n",
       "      <th>0</th>\n",
       "      <td>Yes</td>\n",
       "      <td>CA-2012-SA20830140-41210</td>\n",
       "      <td>Central US</td>\n",
       "    </tr>\n",
       "    <tr>\n",
       "      <th>1</th>\n",
       "      <td>Yes</td>\n",
       "      <td>IN-2012-PB19210127-41259</td>\n",
       "      <td>Eastern Asia</td>\n",
       "    </tr>\n",
       "    <tr>\n",
       "      <th>2</th>\n",
       "      <td>Yes</td>\n",
       "      <td>CA-2012-SC20095140-41174</td>\n",
       "      <td>Central US</td>\n",
       "    </tr>\n",
       "    <tr>\n",
       "      <th>3</th>\n",
       "      <td>Yes</td>\n",
       "      <td>IN-2015-JH158207-42140</td>\n",
       "      <td>Oceania</td>\n",
       "    </tr>\n",
       "    <tr>\n",
       "      <th>4</th>\n",
       "      <td>Yes</td>\n",
       "      <td>IN-2014-LC168857-41747</td>\n",
       "      <td>Oceania</td>\n",
       "    </tr>\n",
       "    <tr>\n",
       "      <th>5</th>\n",
       "      <td>Yes</td>\n",
       "      <td>ID-2013-AB1001527-41439</td>\n",
       "      <td>Eastern Asia</td>\n",
       "    </tr>\n",
       "    <tr>\n",
       "      <th>6</th>\n",
       "      <td>Yes</td>\n",
       "      <td>ES-2015-RA1994545-42218</td>\n",
       "      <td>Western Europe</td>\n",
       "    </tr>\n",
       "    <tr>\n",
       "      <th>7</th>\n",
       "      <td>Yes</td>\n",
       "      <td>CA-2014-TB21280140-41724</td>\n",
       "      <td>Central US</td>\n",
       "    </tr>\n",
       "    <tr>\n",
       "      <th>8</th>\n",
       "      <td>Yes</td>\n",
       "      <td>ES-2014-JF15295120-41924</td>\n",
       "      <td>Southern Europe</td>\n",
       "    </tr>\n",
       "    <tr>\n",
       "      <th>9</th>\n",
       "      <td>Yes</td>\n",
       "      <td>IN-2014-NM1844527-41800</td>\n",
       "      <td>Eastern Asia</td>\n",
       "    </tr>\n",
       "  </tbody>\n",
       "</table>\n",
       "</div>"
      ],
      "text/plain": [
       "  Returned                  Order ID           Region\n",
       "0      Yes  CA-2012-SA20830140-41210       Central US\n",
       "1      Yes  IN-2012-PB19210127-41259     Eastern Asia\n",
       "2      Yes  CA-2012-SC20095140-41174       Central US\n",
       "3      Yes    IN-2015-JH158207-42140          Oceania\n",
       "4      Yes    IN-2014-LC168857-41747          Oceania\n",
       "5      Yes   ID-2013-AB1001527-41439     Eastern Asia\n",
       "6      Yes   ES-2015-RA1994545-42218   Western Europe\n",
       "7      Yes  CA-2014-TB21280140-41724       Central US\n",
       "8      Yes  ES-2014-JF15295120-41924  Southern Europe\n",
       "9      Yes   IN-2014-NM1844527-41800     Eastern Asia"
      ]
     },
     "execution_count": 46,
     "metadata": {},
     "output_type": "execute_result"
    }
   ],
   "source": [
    "returns[:10]"
   ]
  },
  {
   "cell_type": "code",
   "execution_count": 89,
   "id": "9899337f",
   "metadata": {},
   "outputs": [
    {
     "data": {
      "text/plain": [
       "(51290, 28)"
      ]
     },
     "execution_count": 89,
     "metadata": {},
     "output_type": "execute_result"
    }
   ],
   "source": [
    "returns.columns = ['Returned', 'Order.ID', 'Region']\n",
    "merge_returns = pd.merge(orders,returns, how='left', on=['Order.ID','Region'])\n",
    "merge_returns.shape"
   ]
  },
  {
   "cell_type": "code",
   "execution_count": 90,
   "id": "0afc4f7a",
   "metadata": {},
   "outputs": [
    {
     "data": {
      "text/plain": [
       "(2202, 28)"
      ]
     },
     "execution_count": 90,
     "metadata": {},
     "output_type": "execute_result"
    }
   ],
   "source": [
    "merge_returns_only = merge_returns[merge_returns.Returned == 'Yes']\n",
    "merge_returns_only.shape"
   ]
  },
  {
   "cell_type": "code",
   "execution_count": 91,
   "id": "2e6f714d",
   "metadata": {},
   "outputs": [
    {
     "data": {
      "text/plain": [
       "<AxesSubplot:xlabel='Order.Year,Returned'>"
      ]
     },
     "execution_count": 91,
     "metadata": {},
     "output_type": "execute_result"
    },
    {
     "data": {
      "image/png": "[encoded data removed]",
      "text/plain": [
       "<Figure size 432x288 with 1 Axes>"
      ]
     },
     "metadata": {
      "needs_background": "light"
     },
     "output_type": "display_data"
    }
   ],
   "source": [
    "_ = merge_returns_only.groupby(['Order.Year','Returned']).agg({'Sales': 'sum'})\n",
    "_.plot.bar()"
   ]
  },
  {
   "cell_type": "code",
   "execution_count": 92,
   "id": "8abbfbae",
   "metadata": {},
   "outputs": [],
   "source": [
    "merge_returns[\"Returned\"] = merge_returns[\"Returned\"].fillna(value=\"No\")"
   ]
  },
  {
   "cell_type": "code",
   "execution_count": 94,
   "id": "81d5da87",
   "metadata": {},
   "outputs": [],
   "source": [
    "y = merge_returns[\"Returned\"]\n",
    "merge_returns['ProcessTime'] = (merge_returns['Ship.Date'] - merge_returns['Order.Date']).dt.days"
   ]
  },
  {
   "cell_type": "code",
   "execution_count": 96,
   "id": "455a0a45",
   "metadata": {},
   "outputs": [
    {
     "data": {
      "text/html": [
       "<div>\n",
       "<style scoped>\n",
       "    .dataframe tbody tr th:only-of-type {\n",
       "        vertical-align: middle;\n",
       "    }\n",
       "\n",
       "    .dataframe tbody tr th {\n",
       "        vertical-align: top;\n",
       "    }\n",
       "\n",
       "    .dataframe thead th {\n",
       "        text-align: right;\n",
       "    }\n",
       "</style>\n",
       "<table border=\"1\" class=\"dataframe\">\n",
       "  <thead>\n",
       "    <tr style=\"text-align: right;\">\n",
       "      <th></th>\n",
       "      <th>Returned</th>\n",
       "    </tr>\n",
       "    <tr>\n",
       "      <th>Product.ID</th>\n",
       "      <th></th>\n",
       "    </tr>\n",
       "  </thead>\n",
       "  <tbody>\n",
       "    <tr>\n",
       "      <th>FUR-BO-3174</th>\n",
       "      <td>NoNo</td>\n",
       "    </tr>\n",
       "    <tr>\n",
       "      <th>FUR-BO-3175</th>\n",
       "      <td>NoNoNoNoNoNoNoNo</td>\n",
       "    </tr>\n",
       "    <tr>\n",
       "      <th>FUR-BO-3176</th>\n",
       "      <td>NoNoNoNoNoYes</td>\n",
       "    </tr>\n",
       "    <tr>\n",
       "      <th>FUR-BO-3177</th>\n",
       "      <td>NoNoNoNoNoNoNoNo</td>\n",
       "    </tr>\n",
       "    <tr>\n",
       "      <th>FUR-BO-3409</th>\n",
       "      <td>NoNoNoNoNoNoNoNo</td>\n",
       "    </tr>\n",
       "    <tr>\n",
       "      <th>...</th>\n",
       "      <td>...</td>\n",
       "    </tr>\n",
       "    <tr>\n",
       "      <th>TEC-PH-6365</th>\n",
       "      <td>YesNoNoNoNoNoNoNoNoNo</td>\n",
       "    </tr>\n",
       "    <tr>\n",
       "      <th>TEC-PH-6413</th>\n",
       "      <td>NoNoNoNoNoYes</td>\n",
       "    </tr>\n",
       "    <tr>\n",
       "      <th>TEC-PH-6425</th>\n",
       "      <td>YesNoNoNoNoNoNo</td>\n",
       "    </tr>\n",
       "    <tr>\n",
       "      <th>TEC-PH-6427</th>\n",
       "      <td>NoNo</td>\n",
       "    </tr>\n",
       "    <tr>\n",
       "      <th>TEC-PH-6626</th>\n",
       "      <td>No</td>\n",
       "    </tr>\n",
       "  </tbody>\n",
       "</table>\n",
       "<p>3788 rows × 1 columns</p>\n",
       "</div>"
      ],
      "text/plain": [
       "                          Returned\n",
       "Product.ID                        \n",
       "FUR-BO-3174                   NoNo\n",
       "FUR-BO-3175       NoNoNoNoNoNoNoNo\n",
       "FUR-BO-3176          NoNoNoNoNoYes\n",
       "FUR-BO-3177       NoNoNoNoNoNoNoNo\n",
       "FUR-BO-3409       NoNoNoNoNoNoNoNo\n",
       "...                            ...\n",
       "TEC-PH-6365  YesNoNoNoNoNoNoNoNoNo\n",
       "TEC-PH-6413          NoNoNoNoNoYes\n",
       "TEC-PH-6425        YesNoNoNoNoNoNo\n",
       "TEC-PH-6427                   NoNo\n",
       "TEC-PH-6626                     No\n",
       "\n",
       "[3788 rows x 1 columns]"
      ]
     },
     "execution_count": 96,
     "metadata": {},
     "output_type": "execute_result"
    }
   ],
   "source": [
    "num_prod_returns = merge_returns.groupby('Product.ID')[['Returned']].agg('sum')\n",
    "num_prod_returns\n",
    "#broken\n"
   ]
  }
 ],
 "metadata": {
  "kernelspec": {
   "display_name": "Python 3",
   "language": "python",
   "name": "python3"
  },
  "language_info": {
   "codemirror_mode": {
    "name": "ipython",
    "version": 3
   },
   "file_extension": ".py",
   "mimetype": "text/x-python",
   "name": "python",
   "nbconvert_exporter": "python",
   "pygments_lexer": "ipython3",
   "version": "3.8.8"
  }
 },
 "nbformat": 4,
 "nbformat_minor": 5
}
